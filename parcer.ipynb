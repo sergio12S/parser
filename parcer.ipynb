{
 "metadata": {
  "language_info": {
   "codemirror_mode": {
    "name": "ipython",
    "version": 3
   },
   "file_extension": ".py",
   "mimetype": "text/x-python",
   "name": "python",
   "nbconvert_exporter": "python",
   "pygments_lexer": "ipython3",
   "version": "3.8.5-final"
  },
  "orig_nbformat": 2,
  "kernelspec": {
   "name": "Python 3.8.5 64-bit",
   "display_name": "Python 3.8.5 64-bit",
   "metadata": {
    "interpreter": {
     "hash": "31f2aee4e71d21fbe5cf8b01ff0e069b9275f58929596ceb00d14d90e3e16cd6"
    }
   }
  }
 },
 "nbformat": 4,
 "nbformat_minor": 2,
 "cells": [
  {
   "cell_type": "code",
   "execution_count": 31,
   "metadata": {},
   "outputs": [],
   "source": [
    "import requests\n",
    "from bs4 import BeautifulSoup\n",
    "import csv\n",
    "import pandas as pd"
   ]
  },
  {
   "cell_type": "code",
   "execution_count": 32,
   "metadata": {},
   "outputs": [
    {
     "output_type": "error",
     "ename": "NameError",
     "evalue": "name 'cards' is not defined",
     "traceback": [
      "\u001b[0;31m---------------------------------------------------------------------------\u001b[0m",
      "\u001b[0;31mNameError\u001b[0m                                 Traceback (most recent call last)",
      "\u001b[0;32m<ipython-input-32-066c7581c2d9>\u001b[0m in \u001b[0;36m<module>\u001b[0;34m\u001b[0m\n\u001b[0;32m----> 1\u001b[0;31m \u001b[0mCSV\u001b[0m \u001b[0;34m=\u001b[0m \u001b[0mcards\u001b[0m\u001b[0;34m.\u001b[0m\u001b[0mcsv\u001b[0m\u001b[0;34m\u001b[0m\u001b[0;34m\u001b[0m\u001b[0m\n\u001b[0m\u001b[1;32m      2\u001b[0m \u001b[0mHOST\u001b[0m \u001b[0;34m=\u001b[0m \u001b[0;34m'https://minfin.com.ua/'\u001b[0m\u001b[0;34m\u001b[0m\u001b[0;34m\u001b[0m\u001b[0m\n\u001b[1;32m      3\u001b[0m \u001b[0mURL\u001b[0m \u001b[0;34m=\u001b[0m \u001b[0;34m'https://minfin.com.ua/cards/'\u001b[0m\u001b[0;34m\u001b[0m\u001b[0;34m\u001b[0m\u001b[0m\n\u001b[1;32m      4\u001b[0m \u001b[0mHEADERS\u001b[0m \u001b[0;34m=\u001b[0m\u001b[0;34m{\u001b[0m\u001b[0;34m'accept'\u001b[0m\u001b[0;34m:\u001b[0m \u001b[0;34m'text/html,application/xhtml+xml,application/xml;q=0.9,image/avif,image/webp,image/apng,*/*;q=0.8,application/signed-exchange;v=b3;q=0.9'\u001b[0m\u001b[0;34m,\u001b[0m \u001b[0;34m'user-agent'\u001b[0m\u001b[0;34m:\u001b[0m \u001b[0;34m'Mozilla/5.0 (X11; Linux x86_64) AppleWebKit/537.36 (KHTML, like Gecko) Chrome/86.0.4240.111 Safari/537.36'\u001b[0m\u001b[0;34m}\u001b[0m\u001b[0;34m\u001b[0m\u001b[0;34m\u001b[0m\u001b[0m\n",
      "\u001b[0;31mNameError\u001b[0m: name 'cards' is not defined"
     ]
    }
   ],
   "source": [
    "CSV = cards.csv\n",
    "HOST = 'https://minfin.com.ua/'\n",
    "URL = 'https://minfin.com.ua/cards/'\n",
    "HEADERS ={'accept': 'text/html,application/xhtml+xml,application/xml;q=0.9,image/avif,image/webp,image/apng,*/*;q=0.8,application/signed-exchange;v=b3;q=0.9', 'user-agent': 'Mozilla/5.0 (X11; Linux x86_64) AppleWebKit/537.36 (KHTML, like Gecko) Chrome/86.0.4240.111 Safari/537.36'}"
   ]
  },
  {
   "cell_type": "code",
   "execution_count": 8,
   "metadata": {},
   "outputs": [],
   "source": [
    "def get_html(url, params=None):\n",
    "    r = requests.get(url, headers=HEADERS, params=params)\n",
    "    return r"
   ]
  },
  {
   "cell_type": "code",
   "execution_count": 19,
   "metadata": {},
   "outputs": [],
   "source": [
    "def get_content(html):\n",
    "    soup = BeautifulSoup(html, 'html.parser')\n",
    "    items = soup.find_all('div', class_='product-item')\n",
    "    cards = []\n",
    "\n",
    "    for item in items:\n",
    "        cards.append(\n",
    "            {\n",
    "                'title':item.find('div', class_ = 'title').get_text(strip=True),\n",
    "                'link_product': HOST + item.find('div', class_ = 'title').find('a').get('href'),\n",
    "                'brand': item.find('div', class_ = 'brand').get_text(strip=True),\n",
    "                'card_img': HOST + item.find('div', class_ = 'image').find('img').get('src')\n",
    "            }\n",
    "        )\n",
    "    return cards    "
   ]
  },
  {
   "cell_type": "code",
   "execution_count": null,
   "metadata": {},
   "outputs": [],
   "source": [
    "def save_doc(items, path):\n",
    "    with open (path, 'w, newline=') as file:\n",
    "        writer = csv.writer(file, delimiter=';')\n",
    "        writer.writerow(['Название продукта', 'Ссылка на прподукт', 'Банк', 'Изображение карты'])\n",
    "        for item in items:\n",
    "            writer.writerow([item['title'], item['link_product'], item['brand'], item['card_img']])            "
   ]
  },
  {
   "cell_type": "code",
   "execution_count": 28,
   "metadata": {},
   "outputs": [],
   "source": [
    "def parser():\n",
    "    PAGENATION = input('Укажите количество строаниц для парсинга:')\n",
    "    PAGENATION = int(PAGENATION.strip())\n",
    "    html = get_html(URL)\n",
    "    if html.status_code == 200:\n",
    "        cards = []\n",
    "        for page in range (1, PAGENATION):\n",
    "            print(f'Парсим страницу: {page}')\n",
    "            html = get_html(URL, params={'page':page})\n",
    "            cards.extend(get_content(html.text))\n",
    "            save_doc(cards, CSV)\n",
    "        pass\n",
    "    else:\n",
    "        print('Error')"
   ]
  },
  {
   "cell_type": "code",
   "execution_count": 29,
   "metadata": {},
   "outputs": [
    {
     "output_type": "stream",
     "name": "stdout",
     "text": [
      "Парсим страницу: 1\n",
      "Парсим страницу: 2\n",
      "[{'title': 'Райфкарта + Visa Gold', 'link_product': 'https://minfin.com.ua//cards/card/view/rajfkarta-visa-gold', 'brand': 'Райффайзен банк Аваль', 'card_img': 'https://minfin.com.ua//cimgs/cards/rajfkarta-visa-gold.png'}, {'title': 'Райфкарта + Visa Gold', 'link_product': 'https://minfin.com.ua//cards/card/view/rajfkarta-visa-gold', 'brand': 'Райффайзен банк Аваль', 'card_img': 'https://minfin.com.ua//cimgs/cards/rajfkarta-visa-gold.png'}, {'title': 'Райфкарта Visa Reward', 'link_product': 'https://minfin.com.ua//cards/card/view/rajfkarta-visa-reward', 'brand': 'Райффайзен банк Аваль', 'card_img': 'https://minfin.com.ua//cimgs/cards/rajfkarta-visa-reward.png'}, {'title': 'Социальная карта', 'link_product': 'https://minfin.com.ua//cards/card/view/soczialnaya-karta-1856779378', 'brand': 'КИБ (Коммерческий Индустриальный Банк)', 'card_img': 'https://minfin.com.ua//cimgs/cards/soczialnaya-karta-1856779378.png'}, {'title': 'Детская карта', 'link_product': 'https://minfin.com.ua//cards/card/view/detskaya-karta', 'brand': 'КИБ (Коммерческий Индустриальный Банк)', 'card_img': 'https://minfin.com.ua//cimgs/cards/detskaya-karta.png'}, {'title': 'Кредитка', 'link_product': 'https://minfin.com.ua//cards/card/view/kreditka-616745310', 'brand': 'izibank', 'card_img': 'https://minfin.com.ua//cimgs/cards/kreditka-616745310.png'}, {'title': 'О.Карта', 'link_product': 'https://minfin.com.ua//cards/card/view/o-karta', 'brand': 'O.Bank', 'card_img': 'https://minfin.com.ua//cimgs/cards/o-karta.png'}, {'title': 'Двойная выгода', 'link_product': 'https://minfin.com.ua//cards/card/view/dvojnaya-vy-goda', 'brand': 'Первый инвестиционный Банк', 'card_img': 'https://minfin.com.ua//cimgs/cards/dvojnaya-vy-goda.png'}, {'title': 'Дебетная карта', 'link_product': 'https://minfin.com.ua//cards/card/view/debetnaya-karta', 'brand': 'Первый инвестиционный Банк', 'card_img': 'https://minfin.com.ua//cimgs/cards/debetnaya-karta.png'}, {'title': 'Зарплатная карта', 'link_product': 'https://minfin.com.ua//cards/card/view/zarplatnaya-karta-1683686945', 'brand': 'Первый инвестиционный Банк', 'card_img': 'https://minfin.com.ua//cimgs/cards/zarplatnaya-karta-1683686945.png'}, {'title': 'А-клуб Mastercard World Black Edition', 'link_product': 'https://minfin.com.ua//cards/card/view/a-klub-mastercard-world-black-edition', 'brand': 'Альфа-Банк', 'card_img': 'https://minfin.com.ua//cimgs/cards/a-klub-mastercard-world-black-edition.png'}, {'title': 'Альфа Простир', 'link_product': 'https://minfin.com.ua//cards/card/view/alfa-prostir-1794717397', 'brand': 'Альфа-Банк', 'card_img': 'https://minfin.com.ua//cimgs/cards/alfa-prostir-1794717397.png'}, {'title': 'Альфа Простир', 'link_product': 'https://minfin.com.ua//cards/card/view/alfa-prostir-1794717397', 'brand': 'Альфа-Банк', 'card_img': 'https://minfin.com.ua//cimgs/cards/alfa-prostir-1794717397.png'}, {'title': 'World of Tanks Blitz', 'link_product': 'https://minfin.com.ua//cards/card/view/world-of-tanks-blitz-1129320384', 'brand': 'Альфа-Банк', 'card_img': 'https://minfin.com.ua//cimgs/cards/world-of-tanks-blitz-1129320384.png'}, {'title': 'World of Warships', 'link_product': 'https://minfin.com.ua//cards/card/view/world-of-warships-572366573', 'brand': 'Альфа-Банк', 'card_img': 'https://minfin.com.ua//cimgs/cards/world-of-warships-572366573.png'}, {'title': 'World of Tanks', 'link_product': 'https://minfin.com.ua//cards/card/view/world-of-tanks-950460349', 'brand': 'Альфа-Банк', 'card_img': 'https://minfin.com.ua//cimgs/cards/world-of-tanks-950460349.png'}, {'title': 'Кредитная карточка \"Фокс Клуб\"', 'link_product': 'https://minfin.com.ua//cards/card/view/kreditnaya-kartochka-foks-klub-850441500', 'brand': 'Альфа-Банк', 'card_img': 'https://minfin.com.ua//cimgs/cards/kreditnaya-kartochka-foks-klub-850441500.png'}, {'title': 'Кредитная карточка \"ЕКО-Максимум\"', 'link_product': 'https://minfin.com.ua//cards/card/view/kreditnaya-kartochka-eko-maksimum-981227045', 'brand': 'Альфа-Банк', 'card_img': 'https://minfin.com.ua//cimgs/cards/kreditnaya-kartochka-eko-maksimum-981227045.png'}, {'title': 'Кредитная карта \"Альфа - Connect\" MC Debit World', 'link_product': 'https://minfin.com.ua//cards/card/view/kreditnaya-karta-alfa-connect-mc-debit-world', 'brand': 'Альфа-Банк', 'card_img': 'https://minfin.com.ua//cimgs/cards/kreditnaya-karta-alfa-connect-mc-debit-world.png'}, {'title': 'Сarbon', 'link_product': 'https://minfin.com.ua//cards/card/view/sarbon', 'brand': 'Альфа-Банк', 'card_img': 'https://minfin.com.ua//cimgs/cards/sarbon.png'}, {'title': 'Кредитная Карта Travel', 'link_product': 'https://minfin.com.ua//cards/card/view/kreditnaya-karta-travel-477490367', 'brand': 'Альфа-Банк', 'card_img': 'https://minfin.com.ua//cimgs/cards/kreditnaya-karta-travel-477490367.png'}, {'title': 'Все Просто', 'link_product': 'https://minfin.com.ua//cards/card/view/vse-prosto-1040771227', 'brand': 'Альфа-Банк', 'card_img': 'https://minfin.com.ua//cimgs/cards/vse-prosto-1040771227.png'}]\n"
     ]
    }
   ],
   "source": [
    "parser()"
   ]
  },
  {
   "cell_type": "code",
   "execution_count": null,
   "metadata": {},
   "outputs": [],
   "source": []
  }
 ]
}