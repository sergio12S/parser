{
 "metadata": {
  "language_info": {
   "codemirror_mode": {
    "name": "ipython",
    "version": 3
   },
   "file_extension": ".py",
   "mimetype": "text/x-python",
   "name": "python",
   "nbconvert_exporter": "python",
   "pygments_lexer": "ipython3",
   "version": "3.8.5-final"
  },
  "orig_nbformat": 2,
  "kernelspec": {
   "name": "python38264bit6a946ed9057f45e6870829c638ab304b",
   "display_name": "Python 3.8.2 64-bit"
  }
 },
 "nbformat": 4,
 "nbformat_minor": 2,
 "cells": [
  {
   "cell_type": "code",
   "execution_count": 1,
   "metadata": {},
   "outputs": [],
   "source": [
    "import requests\n",
    "from bs4 import BeautifulSoup\n",
    "import csv\n",
    "import pickle"
   ]
  },
  {
   "cell_type": "code",
   "execution_count": 2,
   "metadata": {},
   "outputs": [],
   "source": [
    "CSV = 'news_bitcoin.csv'\n",
    "URL = 'https://news.bitcoin.com/'\n",
    "HEADERS ={'accept': 'text/html,application/xhtml+xml,application/xml;q=0.9,image/avif,image/webp,image/apng,*/*;q=0.8,application/signed-exchange;v=b3;q=0.9', 'user-agent': 'Mozilla/5.0 (X11; Linux x86_64) AppleWebKit/537.36 (KHTML, like Gecko) Chrome/86.0.4240.111 Safari/537.36'}"
   ]
  },
  {
   "cell_type": "code",
   "execution_count": 3,
   "metadata": {},
   "outputs": [],
   "source": [
    "def get_html(url, params=None):\n",
    "    r = requests.get(url, headers=HEADERS, params=params)\n",
    "    return r"
   ]
  },
  {
   "cell_type": "code",
   "execution_count": 4,
   "metadata": {},
   "outputs": [],
   "source": [
    "def get_content(html):\n",
    "    soup = BeautifulSoup(html, 'html.parser')\n",
    "    items = soup.find_all('div', class_='story story--medium')\n",
    "    # footer = str(soup.find('div', class_='story__footer'))\n",
    "    news = []\n",
    "    \n",
    "    for item in items:\n",
    "        news.append(\n",
    "            {\n",
    "                'title':item.find('h6', class_ = 'story__title story--medium__title').get_text(strip=True),\n",
    "                'link_product': item.find('div', class_ = 'story--medium__info').find('a').get('href') \n",
    "            }\n",
    "        )\n",
    "    return news    "
   ]
  },
  {
   "cell_type": "code",
   "execution_count": 5,
   "metadata": {},
   "outputs": [],
   "source": [
    "def save_doc(df, name_file):\n",
    "    # Save to pickle\n",
    "    with open(f'{name_file}.pickle', 'wb') as handle:\n",
    "        pickle.dump(df, handle, protocol=pickle.HIGHEST_PROTOCOL)"
   ]
  },
  {
   "cell_type": "code",
   "execution_count": 6,
   "metadata": {},
   "outputs": [],
   "source": [
    "def parser(name_file, number_page=2):\n",
    "    html = get_html(URL)\n",
    "    if html.status_code == 200:\n",
    "        news = []\n",
    "        for page in range (1, number_page + 1):\n",
    "            print(f'Парсим страницу: {page}')\n",
    "            html = get_html(URL, params={'page':page})\n",
    "            news.extend(get_content(html.text))\n",
    "        save_doc(news, name_file)    \n",
    "        return news    \n",
    "    else:\n",
    "        print('Error')"
   ]
  },
  {
   "cell_type": "code",
   "execution_count": 7,
   "metadata": {},
   "outputs": [
    {
     "output_type": "stream",
     "name": "stdout",
     "text": [
      "Парсим страницу: 1\n"
     ]
    }
   ],
   "source": [
    "df = parser('bitcoin', number_page=2)"
   ]
  },
  {
   "cell_type": "code",
   "execution_count": 10,
   "metadata": {},
   "outputs": [],
   "source": [
    "# Open from pickle\n",
    "with open('bitcoin.pickle', 'rb') as handle:\n",
    "    df = pickle.load(handle)"
   ]
  },
  {
   "cell_type": "code",
   "execution_count": 12,
   "metadata": {},
   "outputs": [
    {
     "output_type": "execute_result",
     "data": {
      "text/plain": [
       "{'title': 'You Can Now Earn 200% on Your Investments With ETHx2.io',\n",
       " 'link_product': 'https://news.bitcoin.com/you-can-now-earn-200-on-your-investments-with-ethx2-io/'}"
      ]
     },
     "metadata": {},
     "execution_count": 12
    }
   ],
   "source": []
  },
  {
   "cell_type": "code",
   "execution_count": null,
   "metadata": {},
   "outputs": [],
   "source": []
  }
 ]
}